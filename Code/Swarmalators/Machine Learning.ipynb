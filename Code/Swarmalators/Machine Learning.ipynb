{
 "cells": [
  {
   "cell_type": "code",
   "execution_count": 1,
   "id": "6d1fd604-0da5-44c1-a48e-1c27e2edc426",
   "metadata": {},
   "outputs": [
    {
     "name": "stderr",
     "output_type": "stream",
     "text": [
      "\u001b[32m\u001b[1m    Updating\u001b[22m\u001b[39m registry at `~/.julia/registries/General.toml`\n",
      "\u001b[32m\u001b[1m   Resolving\u001b[22m\u001b[39m package versions...\n",
      "\u001b[32m\u001b[1m   Installed\u001b[22m\u001b[39m PooledArrays ──── v1.4.3\n",
      "\u001b[32m\u001b[1m   Installed\u001b[22m\u001b[39m EpollShim_jll ─── v0.0.20230411+0\n",
      "\u001b[32m\u001b[1m   Installed\u001b[22m\u001b[39m InvertedIndices ─ v1.3.0\n",
      "\u001b[32m\u001b[1m   Installed\u001b[22m\u001b[39m DataFrames ────── v1.3.6\n",
      "\u001b[32m\u001b[1m   Installed\u001b[22m\u001b[39m PrettyTables ──── v1.3.1\n",
      "\u001b[32m\u001b[1m    Updating\u001b[22m\u001b[39m `~/.julia/environments/v1.9/Project.toml`\n",
      "\u001b[32m⌃\u001b[39m \u001b[90m[a93c6f00] \u001b[39m\u001b[92m+ DataFrames v1.3.6\u001b[39m\n",
      "\u001b[32m\u001b[1m    Updating\u001b[22m\u001b[39m `~/.julia/environments/v1.9/Manifest.toml`\n",
      "\u001b[32m⌃\u001b[39m \u001b[90m[a93c6f00] \u001b[39m\u001b[92m+ DataFrames v1.3.6\u001b[39m\n",
      "  \u001b[90m[41ab1584] \u001b[39m\u001b[92m+ InvertedIndices v1.3.0\u001b[39m\n",
      "  \u001b[90m[2dfb63ee] \u001b[39m\u001b[92m+ PooledArrays v1.4.3\u001b[39m\n",
      "\u001b[33m⌅\u001b[39m \u001b[90m[08abe8d2] \u001b[39m\u001b[92m+ PrettyTables v1.3.1\u001b[39m\n",
      "  \u001b[90m[2702e6a9] \u001b[39m\u001b[92m+ EpollShim_jll v0.0.20230411+0\u001b[39m\n",
      "\u001b[36m\u001b[1m        Info\u001b[22m\u001b[39m Packages marked with \u001b[32m⌃\u001b[39m and \u001b[33m⌅\u001b[39m have new versions available, but those with \u001b[33m⌅\u001b[39m are restricted by compatibility constraints from upgrading. To see why use `status --outdated -m`\n",
      "\u001b[32m\u001b[1mPrecompiling\u001b[22m\u001b[39m project...\n",
      "\u001b[32m  ✓ \u001b[39m\u001b[90mInvertedIndices\u001b[39m\n",
      "\u001b[32m  ✓ \u001b[39m\u001b[90mEpollShim_jll\u001b[39m\n",
      "\u001b[32m  ✓ \u001b[39m\u001b[90mPooledArrays\u001b[39m\n",
      "\u001b[32m  ✓ \u001b[39m\u001b[90mWayland_jll\u001b[39m\n",
      "\u001b[32m  ✓ \u001b[39m\u001b[90mxkbcommon_jll\u001b[39m\n",
      "\u001b[32m  ✓ \u001b[39m\u001b[90mQt6Base_jll\u001b[39m\n",
      "\u001b[32m  ✓ \u001b[39m\u001b[90mGR_jll\u001b[39m\n",
      "\u001b[32m  ✓ \u001b[39m\u001b[90mGR\u001b[39m\n",
      "\u001b[32m  ✓ \u001b[39m\u001b[90mPrettyTables\u001b[39m\n",
      "\u001b[32m  ✓ \u001b[39mDataFrames\n",
      "\u001b[32m  ✓ \u001b[39m\u001b[90mLatexify → DataFramesExt\u001b[39m\n",
      "\u001b[32m  ✓ \u001b[39mPlots\n",
      "\u001b[32m  ✓ \u001b[39m\u001b[90mPlots → IJuliaExt\u001b[39m\n",
      "\u001b[32m  ✓ \u001b[39m\u001b[90mPlots → FileIOExt\u001b[39m\n",
      "\u001b[32m  ✓ \u001b[39m\u001b[90mPlots → UnitfulExt\u001b[39m\n",
      "  15 dependencies successfully precompiled in 225 seconds. 347 already precompiled.\n",
      "  \u001b[33m1\u001b[39m dependency had warnings during precompilation:\u001b[33m\n",
      "┌ \u001b[39mDataFrames [a93c6f00-e57d-5684-b7b6-d8193f3e46c0]\u001b[33m\n",
      "│  \u001b[39mWARNING: method definition for #DataFrame#195 at /Users/aryanpatel/.julia/packages/DataFrames/JZ7x5/src/dataframe/dataframe.jl:398 declares type variable T but does not use it.\u001b[33m\n",
      "│  \u001b[39mWARNING: method definition for col_ordering at /Users/aryanpatel/.julia/packages/DataFrames/JZ7x5/src/abstractdataframe/sort.jl:145 declares type variable O but does not use it.\u001b[33m\n",
      "└  \u001b[39m\n",
      "\u001b[32m\u001b[1m   Resolving\u001b[22m\u001b[39m package versions...\n",
      "\u001b[32m\u001b[1m   Installed\u001b[22m\u001b[39m WorkerUtilities ──── v1.6.1\n",
      "\u001b[32m\u001b[1m   Installed\u001b[22m\u001b[39m InlineStrings ────── v1.4.0\n",
      "\u001b[32m\u001b[1m   Installed\u001b[22m\u001b[39m CodecZlib ────────── v0.7.3\n",
      "\u001b[32m\u001b[1m   Installed\u001b[22m\u001b[39m SentinelArrays ───── v1.4.0\n",
      "\u001b[32m\u001b[1m   Installed\u001b[22m\u001b[39m WeakRefStrings ───── v1.4.2\n",
      "\u001b[32m\u001b[1m   Installed\u001b[22m\u001b[39m FilePathsBase ────── v0.9.21\n",
      "\u001b[32m\u001b[1m   Installed\u001b[22m\u001b[39m TranscodingStreams ─ v0.10.2\n",
      "\u001b[32m\u001b[1m   Installed\u001b[22m\u001b[39m CSV ──────────────── v0.10.11\n",
      "\u001b[32m\u001b[1m    Updating\u001b[22m\u001b[39m `~/.julia/environments/v1.9/Project.toml`\n",
      "  \u001b[90m[336ed68f] \u001b[39m\u001b[92m+ CSV v0.10.11\u001b[39m\n",
      "\u001b[32m\u001b[1m    Updating\u001b[22m\u001b[39m `~/.julia/environments/v1.9/Manifest.toml`\n",
      "  \u001b[90m[336ed68f] \u001b[39m\u001b[92m+ CSV v0.10.11\u001b[39m\n",
      "  \u001b[90m[944b1d66] \u001b[39m\u001b[92m+ CodecZlib v0.7.3\u001b[39m\n",
      "  \u001b[90m[48062228] \u001b[39m\u001b[92m+ FilePathsBase v0.9.21\u001b[39m\n",
      "  \u001b[90m[842dd82b] \u001b[39m\u001b[92m+ InlineStrings v1.4.0\u001b[39m\n",
      "  \u001b[90m[91c51154] \u001b[39m\u001b[92m+ SentinelArrays v1.4.0\u001b[39m\n",
      "  \u001b[90m[3bb67fe8] \u001b[39m\u001b[92m+ TranscodingStreams v0.10.2\u001b[39m\n",
      "  \u001b[90m[ea10d353] \u001b[39m\u001b[92m+ WeakRefStrings v1.4.2\u001b[39m\n",
      "  \u001b[90m[76eceee3] \u001b[39m\u001b[92m+ WorkerUtilities v1.6.1\u001b[39m\n",
      "\u001b[32m\u001b[1mPrecompiling\u001b[22m\u001b[39m project...\n",
      "\u001b[32m  ✓ \u001b[39m\u001b[90mWorkerUtilities\u001b[39m\n",
      "\u001b[32m  ✓ \u001b[39m\u001b[90mTranscodingStreams\u001b[39m\n",
      "\u001b[32m  ✓ \u001b[39m\u001b[90mInlineStrings\u001b[39m\n",
      "\u001b[32m  ✓ \u001b[39m\u001b[90mFilePathsBase\u001b[39m\n",
      "\u001b[32m  ✓ \u001b[39m\u001b[90mTranscodingStreams → TestExt\u001b[39m\n",
      "\u001b[32m  ✓ \u001b[39m\u001b[90mSentinelArrays\u001b[39m\n",
      "\u001b[32m  ✓ \u001b[39m\u001b[90mWeakRefStrings\u001b[39m\n",
      "\u001b[32m  ✓ \u001b[39m\u001b[90mCodecZlib\u001b[39m\n",
      "\u001b[32m  ✓ \u001b[39mCSV\n",
      "  9 dependencies successfully precompiled in 49 seconds. 362 already precompiled.\n"
     ]
    }
   ],
   "source": [
    "using Pkg\n",
    "Pkg.add(\"DataFrames\")\n",
    "Pkg.add(\"CSV\")"
   ]
  },
  {
   "cell_type": "code",
   "execution_count": 2,
   "id": "61bd151c-434a-478a-a953-138d6bd1e771",
   "metadata": {},
   "outputs": [],
   "source": [
    "import CSV"
   ]
  },
  {
   "cell_type": "code",
   "execution_count": 1,
   "id": "c9e69669-3010-4252-b29a-b0e121b51874",
   "metadata": {},
   "outputs": [
    {
     "ename": "LoadError",
     "evalue": "ArgumentError: Package Flux not found in current path.\n- Run `import Pkg; Pkg.add(\"Flux\")` to install the Flux package.",
     "output_type": "error",
     "traceback": [
      "ArgumentError: Package Flux not found in current path.\n- Run `import Pkg; Pkg.add(\"Flux\")` to install the Flux package.",
      "",
      "Stacktrace:",
      " [1] macro expansion",
      "   @ ./loading.jl:1630 [inlined]",
      " [2] macro expansion",
      "   @ ./lock.jl:267 [inlined]",
      " [3] require(into::Module, mod::Symbol)",
      "   @ Base ./loading.jl:1611"
     ]
    }
   ],
   "source": [
    "import Flux"
   ]
  },
  {
   "cell_type": "code",
   "execution_count": null,
   "id": "236400c2-7d43-44a1-b580-d321457d8e40",
   "metadata": {},
   "outputs": [],
   "source": []
  }
 ],
 "metadata": {
  "kernelspec": {
   "display_name": "Julia 1.9.2",
   "language": "julia",
   "name": "julia-1.9"
  },
  "language_info": {
   "file_extension": ".jl",
   "mimetype": "application/julia",
   "name": "julia",
   "version": "1.9.2"
  }
 },
 "nbformat": 4,
 "nbformat_minor": 5
}
