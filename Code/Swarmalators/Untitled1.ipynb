{
 "cells": [
  {
   "cell_type": "code",
   "execution_count": null,
   "id": "e0a68570-defa-4df3-86f7-9d3d92786ce8",
   "metadata": {},
   "outputs": [],
   "source": [
    "using Plots\n",
    "\n",
    "function logistic_map(r, x0, n)\n",
    "    x = zeros(n)\n",
    "    x[1] = x0\n",
    "    for i in 2:n\n",
    "        x[i] = r * x[i-1] * (1 - x[i-1])\n",
    "    end\n",
    "    return x\n",
    "end\n",
    "\n",
    "function plot_logistic_map(r, x0, n)\n",
    "    x_values = logistic_map(r, x0, n)\n",
    "    plot(1:n, x_values, marker=:circle, linestyle=:solid, label=\"Logistic Map\")\n",
    "    xlabel!(\"Iteration\")\n",
    "    ylabel!(\"Value\")\n",
    "    title!(\"Logistic Map for r=$r, x₀=$x0\")\n",
    "    #legend()\n",
    "    display(Plots.plot!())\n",
    "end\n",
    "\n",
    "# Example usage\n",
    "plot_logistic_map(2.5, 0.2, 100)\n"
   ]
  },
  {
   "cell_type": "code",
   "execution_count": null,
   "id": "e225427d-bb53-4bc1-86e6-566307e462dc",
   "metadata": {},
   "outputs": [],
   "source": [
    "using Plots\n",
    "\n",
    "function logistic_bifurcation(r_values, x0, n, m)\n",
    "    all_x_values = Float64[]\n",
    "    all_r_values = Float64[]\n",
    "\n",
    "    for r in r_values\n",
    "        x = logistic_map(r, x0, n)\n",
    "        append!(all_r_values, fill(r, n))\n",
    "        append!(all_x_values, x)\n",
    "        x0 = x[end]\n",
    "    end\n",
    "\n",
    "    return all_r_values, all_x_values\n",
    "end\n",
    "\n",
    "function plot_bifurcation_diagram(r_values, x0, n, m)\n",
    "    r_values, x_values = logistic_bifurcation(r_values, x0, n, m)\n",
    "    plot(r_values, x_values, seriestype=:scatter, markersize=0.1, legend=false)\n",
    "    xlabel!(\"r\")\n",
    "    ylabel!(\"x\")\n",
    "    title!(\"Bifurcation Diagram for the Logistic Map\")\n",
    "    display(Plots.plot!())\n",
    "end\n",
    "\n",
    "# Example usage\n",
    "r_values = 2.5:0.005:4.0\n",
    "plot_bifurcation_diagram(r_values, 0.2, 1000, 100)\n"
   ]
  },
  {
   "cell_type": "code",
   "execution_count": null,
   "id": "f7989e30-ee45-486e-9572-25d796b34428",
   "metadata": {},
   "outputs": [],
   "source": []
  }
 ],
 "metadata": {
  "kernelspec": {
   "display_name": "Julia 1.9.2",
   "language": "julia",
   "name": "julia-1.9"
  },
  "language_info": {
   "file_extension": ".jl",
   "mimetype": "application/julia",
   "name": "julia",
   "version": "1.9.2"
  }
 },
 "nbformat": 4,
 "nbformat_minor": 5
}
