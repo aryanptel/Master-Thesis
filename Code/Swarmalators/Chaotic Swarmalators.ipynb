{
 "cells": [
  {
   "cell_type": "code",
   "execution_count": 1,
   "id": "ba4bbe91-a862-40ab-9224-a74998c0b903",
   "metadata": {},
   "outputs": [
    {
     "data": {
      "text/plain": [
       "(50, 1, 0, 0.1, 1)"
      ]
     },
     "execution_count": 1,
     "metadata": {},
     "output_type": "execute_result"
    }
   ],
   "source": [
    "using Plots\n",
    "using DifferentialEquations\n",
    "\n",
    "function param()\n",
    "    N = 50\n",
    "    A = 1\n",
    "    B = 0\n",
    "    \n",
    "    J = 0.1\n",
    "    K = 1\n",
    "    return N,A,B,J,K\n",
    "\n",
    "end\n",
    "\n",
    "N,A,B,J,K = param()"
   ]
  },
  {
   "cell_type": "code",
   "execution_count": 3,
   "id": "7fd1fed4-4cfe-4113-8673-dfade8252170",
   "metadata": {
    "jupyter": {
     "source_hidden": true
    },
    "scrolled": true
   },
   "outputs": [
    {
     "data": {
      "text/plain": [
       "model (generic function with 1 method)"
      ]
     },
     "execution_count": 3,
     "metadata": {},
     "output_type": "execute_result"
    }
   ],
   "source": [
    "#oscillator that sync and swarm\n",
    "\n",
    "function model(u,p,t)\n",
    "\n",
    "    N,A,B,J,K = param()\n",
    "    \n",
    "    N = length(u) ÷ 3\n",
    "    \n",
    "    \n",
    "    x = u[1,:]\n",
    "    y = u[2,:]\n",
    "    theta = u[3,:]\n",
    "    \n",
    "    du = similar(u)\n",
    "    \n",
    "    for i in 1:N\n",
    "                cplx = 0\n",
    "\n",
    "        for j in 1:N\n",
    "            if i != j\n",
    "                cplx += (x[j]-x[i])*(A + J*cos(theta[j]- theta[i]))/((x[j]-x[i])^2 + (y[j]-y[i])^2 )^(1/2) - B*(x[j] - x[i])/((x[j]-x[i])^2 + (y[j]-y[i])^2) \n",
    "\n",
    "            end\n",
    "        end\n",
    "\n",
    "        cply = 0\n",
    "        for j in 1:N\n",
    "            if i != j\n",
    "                cply += (y[j]-y[i])*(A+J * cos(theta[j]- theta[i]))/((x[j]-x[i])^2 + (y[j]-y[i])^2 )^(1/2) - B*(y[j] - y[i])/((x[j]-x[i])^2 + (y[j]-y[i])^2)\n",
    "    \n",
    "            end\n",
    "\n",
    "        end\n",
    "\n",
    "        cpl2 = 0\n",
    "        for j in 1:N\n",
    "            if i != j\n",
    "                cpl2 = sin(theta[j]- theta[i])/((x[j]-x[i])^2 + (y[j]-y[i])^2)^(1/2)\n",
    "\n",
    "            end\n",
    "\n",
    "        end\n",
    "    \n",
    "        du[1,i] =  (1/N)* cplx\n",
    "        du[2,i] =  (1/N)*cply\n",
    "        du[3,i] =  (K/N)* cpl2\n",
    "    \n",
    "    end\n",
    "    \n",
    "    return du\n",
    "\n",
    "end\n",
    "\n",
    "\n",
    "\n",
    "# Set the time span for integration\n",
    "\n",
    "\n",
    "\n"
   ]
  },
  {
   "cell_type": "code",
   "execution_count": 4,
   "id": "4b7682d5-8004-4067-a558-75345214ec24",
   "metadata": {},
   "outputs": [
    {
     "data": {
      "text/plain": [
       "rk4_step (generic function with 1 method)"
      ]
     },
     "execution_count": 4,
     "metadata": {},
     "output_type": "execute_result"
    }
   ],
   "source": [
    "function rk4_step(u, dt)\n",
    "    k1 = dt * model(u)\n",
    "    k2 = dt * (model(u + k1/2))\n",
    "    k3 = dt * (model(u + k2/2))\n",
    "    k4 = dt * (model(u + k3))\n",
    "    return u + (k1 + 2*k2 + 2*k3 + k4) / 6\n",
    "end\n"
   ]
  },
  {
   "cell_type": "code",
   "execution_count": 5,
   "id": "cdc71ded-7c83-4ee0-aa61-259777779ecf",
   "metadata": {
    "jupyter": {
     "source_hidden": true
    },
    "scrolled": true
   },
   "outputs": [
    {
     "data": {
      "text/plain": [
       "rk4_step (generic function with 1 method)"
      ]
     },
     "execution_count": 5,
     "metadata": {},
     "output_type": "execute_result"
    }
   ],
   "source": [
    "#oscillator that sync and swarm\n",
    "\n",
    "function model(u)\n",
    "\n",
    "    N,A,B,J,K = param()\n",
    "    coupling = 1\n",
    "    sigma = 10\n",
    "    rho = 28\n",
    "    beta = 8/3\n",
    "    x = u[1,:]\n",
    "    y = u[2,:]\n",
    "    #theta = u[3,:]\n",
    "\n",
    "    \n",
    "\n",
    "    for i in 1:2\n",
    "        cplx = 0\n",
    "        for j in 1:2\n",
    "    \n",
    "            if i != j\n",
    "                cplx += (x[j]-x[i])*(p-u)/((x[j]-x[i])^2 + (y[j]-y[i])^2 )^(1/2) - B*(x[j] - x[i])/((x[j]-x[i])^2 + (y[j]-y[i])^2) \n",
    "    \n",
    "            end\n",
    "        \n",
    "        end\n",
    "        cply = 0\n",
    "        for j in 1:2\n",
    "            if i != j\n",
    "                cply += (y[j]-y[i])*(p-u)/((x[j]-x[i])^2 + (y[j]-y[i])^2 )^(1/2) - B*(y[j] - y[i])/((x[j]-x[i])^2 + (y[j]-y[i])^2)\n",
    "    \n",
    "            end\n",
    "        end\n",
    "        \n",
    "        if i  == 1\n",
    "            du[4] =  (1/2)* cplx\n",
    "            du[5] =  (1/2)*cply\n",
    "        elseif i==2\n",
    "            du[9] =  (1/2)* cplx\n",
    "            du[10] =  (1/2)*cply\n",
    "        end\n",
    "    end\n",
    "\n",
    "    du[1] = sigma * (q - p) + coupling *sigma* (v)\n",
    "    du[2] = p * (rho - r) - q  + coupling * (rho*u-u*w)\n",
    "    du[3] = p * q - beta * r + coupling * (u*v)\n",
    "\n",
    "    du[6] = sigma * (v - u) + coupling *sigma* (q)\n",
    "    du[7] = u * (rho - w) - v + coupling * (rho*p - p*r)\n",
    "    du[8] = u * v - beta * w + coupling * (p*q)\n",
    "    \n",
    "    \n",
    "    return du\n",
    "\n",
    "end\n",
    "\n",
    "\n",
    "\n",
    "function rk4_step(u, dt)\n",
    "    k1 = dt * model(u)\n",
    "    k2 = dt * (model(u + k1/2))\n",
    "    k3 = dt * (model(u + k2/2))\n",
    "    k4 = dt * (model(u + k3))\n",
    "    return u + (k1 + 2*k2 + 2*k3 + k4) / 6\n",
    "end\n",
    "\n",
    "\n",
    "# Set the time span for integration\n",
    "\n",
    "\n",
    "\n"
   ]
  },
  {
   "cell_type": "code",
   "execution_count": 6,
   "id": "462da9a5-c92d-488f-a733-eef70d6f23bb",
   "metadata": {},
   "outputs": [
    {
     "data": {
      "text/plain": [
       "model (generic function with 2 methods)"
      ]
     },
     "execution_count": 6,
     "metadata": {},
     "output_type": "execute_result"
    }
   ],
   "source": [
    "function model(init)\n",
    "x, y, z, u, v, w, x1,y1,x2,y2, vx1, vy1, vx2,vy2 = init\n",
    "\n",
    "sigma = 10.0\n",
    "rho = 28.0\n",
    "beta = 8/3\n",
    "\n",
    "\n",
    "    \n",
    "r = ((x2-x1)^2+(y2-y1)^2)^(1/2)\n",
    "norm = r^2\n",
    "\n",
    "    eps = 1\n",
    "    \n",
    "radius = 3\n",
    "lim = radius+1\n",
    "if r < radius\n",
    "        coupling  = 1\n",
    "elseif radius <= r < lim\n",
    "    coupling = 0.5*(1+ cos(pi*(r-radius)/(lim-radius)))\n",
    "\n",
    "else r > lim\n",
    "        coupling  = 0\n",
    "\n",
    "    end\n",
    "\n",
    "    \n",
    "du = similar(init)\n",
    "\n",
    "    du[1] = sigma * (y - x) + coupling * sigma * (v)\n",
    "    du[2] = x * (rho - z) - y  + coupling * (rho*u-u*w)\n",
    "    du[3] = x * y - beta * z + coupling * (u*v)\n",
    "    \n",
    "    du[4] = sigma * (v - u) + coupling *sigma * (y)\n",
    "    du[5] = u * (rho - w) - v + coupling * (rho*x - x*z)\n",
    "    du[6] = u * v - beta * w + coupling * (x*y)\n",
    "\n",
    "    du[7] = vx1\n",
    "    du[8] = 0.5*(vx2-vx1) + (x2-x1) - (x2-x1)/(norm + eps)\n",
    "    \n",
    "    du[9] = vy1\n",
    "    du[10] = 0.5*(vy2-vy1) + (y2-y1) - (y2-y1)/(norm + eps)\n",
    "        \n",
    "    du[11] = vx2\n",
    "    du[12] = 0.5*(vx1-vx2) + (x1-x2) - (x1-x2)/(norm + eps)\n",
    "        \n",
    "    du[13] = vy2\n",
    "    du[14] = 0.5*(vy1-vy2) + (y1-y2) - (y1-y2)/(norm + eps)\n",
    "    \n",
    "    return du\n",
    "end"
   ]
  },
  {
   "cell_type": "code",
   "execution_count": 7,
   "id": "8f25447d-059a-41d2-ab32-f2f057c73152",
   "metadata": {
    "scrolled": true
   },
   "outputs": [
    {
     "data": {
      "text/plain": [
       "3×50 Matrix{Float64}:\n",
       "  0.732047  -0.119021  -0.0396516  …  -0.684664  -0.860135   -0.148285\n",
       "  0.915908   0.714996  -0.406391      -0.814614   0.0899388   0.563675\n",
       " -1.70961    1.39422    2.25156       -0.699188  -0.858665   -1.96651"
      ]
     },
     "execution_count": 7,
     "metadata": {},
     "output_type": "execute_result"
    }
   ],
   "source": [
    "using Random\n",
    "\n",
    "function generate_random_matrix(N)\n",
    "    # Create random arrays for each column\n",
    "    col1 = -1 .+ 2 * rand(1,N)\n",
    "    col2 = -1 .+ 2 * rand(1,N)\n",
    "    col3 = -π .+ 2π * rand(1,N)\n",
    "    \n",
    "    # Combine the columns into a single matrix\n",
    "    random_matrix = vcat(col1, col2, col3)\n",
    "    \n",
    "    return random_matrix\n",
    "end\n",
    "u0 = generate_random_matrix(N)\n"
   ]
  },
  {
   "cell_type": "code",
   "execution_count": 8,
   "id": "83348e51-626a-45b6-849e-eb76ea1f5864",
   "metadata": {
    "editable": true,
    "slideshow": {
     "slide_type": ""
    },
    "tags": []
   },
   "outputs": [],
   "source": [
    "t0 = 0.0\n",
    "tfinal = 500.0\n",
    "dt = 0.01\n",
    "num_steps = Int(round((tfinal - t0) / dt))\n",
    "\n",
    "u0= [1.0, 5.0, 1.0, 5.0, 10.0, 0.0, 1,0, 5,0, 1,0,1,0]\n",
    "\n",
    "# Initialize solution array\n",
    "solution = zeros(14,1, num_steps+1)\n",
    "solution[:,:, 1] = u0\n",
    "\n",
    "\n",
    "\n",
    "\n",
    "using ProgressMeter\n",
    "\n",
    "# Time integration using RK4\n",
    "u = copy(u0)\n",
    "for i in 1:num_steps\n",
    "    u = rk4_step(u, dt)\n",
    "    solution[:,:, i+1] = u\n",
    "end\n",
    "\n",
    "# Extract time points and solutions\n",
    "t = collect(t0:dt:tfinal);\n",
    "u = solution;"
   ]
  },
  {
   "cell_type": "code",
   "execution_count": null,
   "id": "fb801cf5-30cf-48fb-a78d-e163c6f24119",
   "metadata": {
    "jupyter": {
     "source_hidden": true
    }
   },
   "outputs": [],
   "source": [
    "# Time integration using RK4\n",
    "u = copy(u0)\n",
    "tspan = (0.0,100.0)\n",
    "prob = ODEProblem(model,u0,tspan)\n",
    "@time u = solve(prob, saveat = 0.1)\n",
    "\n",
    "# Extract time points and solutions\n",
    "#t = collect(0.0:0.1:tfinal);\n",
    "#u = solution;"
   ]
  },
  {
   "cell_type": "code",
   "execution_count": 9,
   "id": "5a8a617c-7952-40b6-9f53-0da78ac7057c",
   "metadata": {},
   "outputs": [
    {
     "data": {
      "text/plain": [
       "20000:30000"
      ]
     },
     "execution_count": 9,
     "metadata": {},
     "output_type": "execute_result"
    }
   ],
   "source": [
    "size(u)\n",
    "lim = 20000:30000"
   ]
  },
  {
   "cell_type": "code",
   "execution_count": 10,
   "id": "fc8b2c9e-a73d-411d-8152-7698fb60dca0",
   "metadata": {
    "editable": true,
    "slideshow": {
     "slide_type": ""
    },
    "tags": []
   },
   "outputs": [
    {
     "ename": "LoadError",
     "evalue": "InterruptException:",
     "output_type": "error",
     "traceback": [
      "InterruptException:",
      "",
      "Stacktrace:",
      "  [1] get_func_ptr(handle::Base.RefValue{Ptr{Nothing}}, ptrs::GR.LibGR_Ptrs, func::Symbol, loaded::Bool)",
      "    @ GR ~/.julia/packages/GR/jehu0/src/funcptrs.jl:76",
      "  [2] get_func_ptr",
      "    @ ~/.julia/packages/GR/jehu0/src/funcptrs.jl:75 [inlined]",
      "  [3] libGR_ptr",
      "    @ ~/.julia/packages/GR/jehu0/src/funcptrs.jl:84 [inlined]",
      "  [4] emergencyclosegks",
      "    @ ~/.julia/packages/GR/jehu0/src/GR.jl:2078 [inlined]",
      "  [5] _show(io::IOStream, #unused#::MIME{Symbol(\"image/png\")}, plt::Plots.Plot{Plots.GRBackend})",
      "    @ Plots ~/.julia/packages/Plots/3BCH5/src/backends/gr.jl:2064",
      "  [6] #invokelatest#2",
      "    @ ./essentials.jl:816 [inlined]",
      "  [7] invokelatest",
      "    @ ./essentials.jl:813 [inlined]",
      "  [8] show",
      "    @ ~/.julia/packages/Plots/3BCH5/src/output.jl:232 [inlined]",
      "  [9] #344",
      "    @ ~/.julia/packages/Plots/3BCH5/src/output.jl:6 [inlined]",
      " [10] open(::Plots.var\"#344#345\"{Plots.Plot{Plots.GRBackend}}, ::String, ::Vararg{String}; kwargs::Base.Pairs{Symbol, Union{}, Tuple{}, NamedTuple{(), Tuple{}}})",
      "    @ Base ./io.jl:395",
      " [11] open",
      "    @ ./io.jl:392 [inlined]",
      " [12] png",
      "    @ ~/.julia/packages/Plots/3BCH5/src/output.jl:6 [inlined]",
      " [13] frame(anim::Animation, plt::Plots.Plot{Plots.GRBackend})",
      "    @ Plots ~/.julia/packages/Plots/3BCH5/src/animation.jl:26",
      " [14] frame(anim::Animation)",
      "    @ Plots ~/.julia/packages/Plots/3BCH5/src/animation.jl:24",
      " [15] macro expansion",
      "    @ ~/.julia/packages/Plots/3BCH5/src/animation.jl:232 [inlined]",
      " [16] macro expansion",
      "    @ ./In[10]:4 [inlined]",
      " [17] top-level scope",
      "    @ ~/.julia/packages/Plots/3BCH5/src/animation.jl:251"
     ]
    }
   ],
   "source": [
    "\n",
    "@gif for i in 1:3000\n",
    "    plot(u[1,:,i], u[2,:,i],marker_z = u[3,:,i] , c=:plasma, seriestype=:scatter, label=\"data\")\n",
    "end\n"
   ]
  },
  {
   "cell_type": "code",
   "execution_count": null,
   "id": "634f3f6e-e036-4c4f-863c-2065e3dd9c77",
   "metadata": {},
   "outputs": [],
   "source": [
    "plot(u[7,:,lim], u[11,:,lim], seriestype =:scatter)"
   ]
  },
  {
   "cell_type": "code",
   "execution_count": null,
   "id": "96a7563d-bf69-4031-9035-ca5d47a43004",
   "metadata": {},
   "outputs": [],
   "source": [
    "u[1,:]"
   ]
  },
  {
   "cell_type": "code",
   "execution_count": null,
   "id": "aa1edf5d-339b-4a03-9ba4-352608bb3be1",
   "metadata": {
    "scrolled": true
   },
   "outputs": [],
   "source": [
    "plot(u[3,:,:], label=\"t vs theta\", aspect_ratio = 1)"
   ]
  },
  {
   "cell_type": "code",
   "execution_count": null,
   "id": "b761cfa3-cd46-4b50-8d4f-c50977073c65",
   "metadata": {},
   "outputs": [],
   "source": [
    "plot(u[1,:,20000:40000],u[2,:,20000:40000],u[3,:,20000:40000],seriestype=:scatter)"
   ]
  },
  {
   "cell_type": "code",
   "execution_count": null,
   "id": "834aa527-7c8b-45ba-a1d9-37ef1db5c4c2",
   "metadata": {},
   "outputs": [],
   "source": [
    "sqrt(4)"
   ]
  },
  {
   "cell_type": "code",
   "execution_count": null,
   "id": "d057f5ee-afe9-489d-8909-d5517668ef02",
   "metadata": {},
   "outputs": [],
   "source": []
  }
 ],
 "metadata": {
  "kernelspec": {
   "display_name": "Julia 1.9.2",
   "language": "julia",
   "name": "julia-1.9"
  },
  "language_info": {
   "file_extension": ".jl",
   "mimetype": "application/julia",
   "name": "julia",
   "version": "1.9.2"
  }
 },
 "nbformat": 4,
 "nbformat_minor": 5
}
