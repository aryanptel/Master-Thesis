{
 "cells": [
  {
   "cell_type": "code",
   "execution_count": null,
   "id": "c248c899-4333-49bc-b502-3e3d21a914e6",
   "metadata": {},
   "outputs": [],
   "source": [
    "using DifferentialEquations, Plots\n"
   ]
  },
  {
   "cell_type": "code",
   "execution_count": null,
   "id": "914782b3-816a-4e78-a27c-5056e805699c",
   "metadata": {
    "scrolled": true
   },
   "outputs": [],
   "source": [
    "\n",
    "#mackey glass equation\n",
    "function mge(du, u, h, p, t)\n",
    "    mu = 0.5\n",
    "\n",
    "    n, gamma, beta, tau = p\n",
    "    hist = h(p, t - tau)[1]\n",
    "    du[1] = beta * hist / (1 + hist ^ n) - gamma * u[1]\n",
    "\n",
    "end\n",
    "\n",
    "h(p, t) = 0.5\n",
    "\n",
    "tau = 2\n",
    "lags = [tau]\n",
    "beta  = 2\n",
    "gamma  = 1\n",
    "n = 9.65\n",
    "\n",
    "p = (n, gamma,beta , tau)\n",
    "\n",
    "# Set the time span for integration\n",
    "t_start = 0.0\n",
    "t_end = 1000.0\n",
    "t_step = 0.002\n",
    "t_span = (t_start, t_end)\n",
    "\n",
    "u0 = [1]\n",
    "\n",
    "\n",
    "prob = DDEProblem(mge, u0, h, t_span, p; constant_lags = lags)\n",
    "alg = MethodOfSteps(Tsit5())\n",
    "sol = solve(prob,alg, saveat = t_step)"
   ]
  },
  {
   "cell_type": "code",
   "execution_count": null,
   "id": "82241cbb-c378-4eb4-85a4-b77823e8136d",
   "metadata": {},
   "outputs": [],
   "source": [
    "solu = reduce(vcat,sol.u)\n",
    "x_tau = solu[4980000:(end - tau)]\n",
    "x_t = solu[(49800000 + tau):end]\n",
    "\n"
   ]
  },
  {
   "cell_type": "code",
   "execution_count": null,
   "id": "ac06cc4a-4784-4b3e-b1a1-f5ab09005a5a",
   "metadata": {},
   "outputs": [],
   "source": [
    "using Plots\n",
    "plot(sol)"
   ]
  },
  {
   "cell_type": "code",
   "execution_count": null,
   "id": "3958fe1d-4bfe-4b2f-89b9-43644160b801",
   "metadata": {},
   "outputs": [],
   "source": [
    "plot(solu[100000:(end-int(tau/t_step))],(solu[100000+int(tau/t_step):(end)]))"
   ]
  },
  {
   "cell_type": "code",
   "execution_count": null,
   "id": "ab974556-f133-4e08-8738-1064e648952d",
   "metadata": {
    "jupyter": {
     "source_hidden": true
    }
   },
   "outputs": [],
   "source": [
    "using DifferentialEquations\n",
    "\n",
    "function mackey_glass(du, u, h, p, t)\n",
    "    α, β, γ, τ = p\n",
    "    du[1] = γ * (u[2] / (1 + u[2]^10) - u[1])\n",
    "    du[2] = α * (1 - β) * h(t-τ) - β * u[2]\n",
    "end\n",
    "\n",
    "# History function\n",
    "function history_function(t)\n",
    "    return 0.5\n",
    "end\n",
    "\n",
    "# Initial condition\n",
    "u0 = [1.0, 1.05]\n",
    "\n",
    "# Parameters\n",
    "α = 0.2\n",
    "β = 0.1\n",
    "γ = 10.0\n",
    "τ = 25\n",
    "\n",
    "# Time span\n",
    "tspan = (0.0, 500.0)\n",
    "\n",
    "# Parameters vector\n",
    "p = [α, β, γ, τ]\n",
    "\n",
    "# Solve the equation using the fourth-order Runge-Kutta method with history\n",
    "prob = DDEProblem(mackey_glass, u0, history_function, tspan, p)\n",
    "sol = solve(prob, MethodOfSteps(Tsit5()), reltol=1e-8, abstol=1e-8)\n",
    "\n",
    "# Plot the results\n",
    "using Plots\n",
    "plot(sol, vars=(0, 1), label=\"x(t)\")\n",
    "plot!(sol, vars=(0, 2), label=\"x(t-τ)\", linestyle=:dash)\n",
    "xlabel!(\"Time t\")\n",
    "ylabel!(\"x(t) and x(t-τ)\")\n",
    "title!(\"Mackey-Glass Equation with History Function Simulation\")\n"
   ]
  },
  {
   "cell_type": "code",
   "execution_count": null,
   "id": "1deb1b80-4f63-427c-8c40-683502dfd178",
   "metadata": {},
   "outputs": [],
   "source": []
  }
 ],
 "metadata": {
  "kernelspec": {
   "display_name": "Julia 1.7.3",
   "language": "julia",
   "name": "julia-1.7"
  },
  "language_info": {
   "file_extension": ".jl",
   "mimetype": "application/julia",
   "name": "julia",
   "version": "1.7.3"
  }
 },
 "nbformat": 4,
 "nbformat_minor": 5
}
