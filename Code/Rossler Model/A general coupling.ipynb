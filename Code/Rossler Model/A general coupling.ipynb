{
 "cells": [
  {
   "cell_type": "markdown",
   "id": "c77001d2-8cf7-4587-8587-89b61d84562a",
   "metadata": {},
   "source": [
    "A general coupling for the figures"
   ]
  },
  {
   "cell_type": "code",
   "execution_count": null,
   "id": "8c164a07-6b86-4e69-8bb3-bb7880fe2280",
   "metadata": {},
   "outputs": [],
   "source": [
    "using DifferentialEquations, Plots\n",
    "#using Dates\n",
    "\n",
    "#system\n",
    "function rossler_system(du, u1, p1, t)\n",
    "    x1, y1, z1, x2, y2, z2 = u1\n",
    "    a, b, c,m,n,s = p1\n",
    "    K = 30\n",
    "\n",
    "    s4 = +y2 + s *x1^(-1 + s)* (-y1 - z1) + z2\n",
    "    s5 = -x2 + n* y1^(-1 + n)* (x1 + a *y1) - a* y2\n",
    "    s6 = -b + m* z1^(-1 + m) *(b + (-c + x1)* z1) - (-c + x2)* z2\n",
    "    j1 = x1 - x2\n",
    "    j2 = y1 - y2\n",
    "    j3 = K*(z1^m - z2)\n",
    "            \n",
    "\n",
    "    du[1] = -y1 - z1\n",
    "    du[2] =  x1 + a*y1\n",
    "    du[3] = b + z1*(x1 - c)\n",
    "    \n",
    "    du[4] = -y2 - z2   +s4 + j1\n",
    "    du[5] = x2 + a*y2   +s5 + j2\n",
    "    du[6] =  b+z2*(x2-c)   +s6 + j3\n",
    "\n",
    "end\n",
    "\n",
    "# Set the parameters\n",
    "\n",
    "a = 0.2\n",
    "b = 0.2\n",
    "c = 14\n",
    "\n",
    "# Set the time span for integration\n",
    "t_start = 0.0\n",
    "t_end = 100.0\n",
    "t_step = 0.001\n",
    "t_span = (t_start, t_end)\n",
    "\n",
    "#non-linear dependence\n",
    "m = 2.3 #z\n",
    "n = 1 #Y\n",
    "s = 1 #x\n",
    "p1 = (a,b,c,m,n,s)\n",
    "\n",
    "# Set the initial conditions\n",
    "initial_state = [ 10, 2, 5, 5, 0, 19 ]\n",
    "\n",
    "\n",
    "\n",
    "# Solve the coupled Lorenz systems\n",
    "prob = ODEProblem(rossler_system, initial_state, t_span, p1)\n",
    "alg = Tsit5()\n",
    "solution = solve(prob,alg, saveat=t_step );\n",
    "lim =length(solution)\n",
    "\n",
    "#li = 1:200000\n",
    "li = 1:lim\n",
    "#li = 1:1000001\n",
    "\n",
    "x1 = solution[1, li];\n",
    "y1 = solution[2, li];\n",
    "z1 = solution[3, li];\n",
    "x2 = solution[4, li];\n",
    "y2 = solution[5, li];\n",
    "z2 = solution[6, li];\n",
    "\n",
    "t = solution.t[li];\n",
    "length(y2)\n",
    "\n",
    "#error for projective syncronisation\n",
    "errrx = []\n",
    "for i in 1:length(x1)\n",
    "    errx = ((x1[i] - x2[i]))\n",
    "    push!(errrx, errx)\n",
    "end\n",
    "\n",
    "errry = []\n",
    "for i in 1:length(y1)\n",
    "    erry = ((y1[i] - y2[i]))\n",
    "    push!(errry, erry)\n",
    "end\n",
    "\n",
    "errrz = []\n",
    "for i in 1:length(z1)\n",
    "    errz = abs((z1[i]^m / z2[i])-1)\n",
    "    push!(errrz, errz)\n",
    "end\n",
    "\n"
   ]
  },
  {
   "cell_type": "code",
   "execution_count": null,
   "id": "51dd4773-0400-40f0-acfb-3b1a88c589f8",
   "metadata": {},
   "outputs": [],
   "source": [
    "\n",
    "Plots.plot(x1,y1,z1, title = \"rossler system \",lw=1, label =\"Drive\",color = :blue)\n",
    "Plots.plot!(x2,y2,z2, title = \"rossler system \",lw=1, label =\"Response\",color = :red);\n",
    "xlabel!(\"x\");\n",
    "ylabel!(\"y\");\n",
    "zlabel!(\"z\")\n"
   ]
  },
  {
   "cell_type": "code",
   "execution_count": null,
   "id": "8efb18d0-ed4f-40a7-97d9-355ac0b3c297",
   "metadata": {},
   "outputs": [],
   "source": [
    "\n",
    "Plots.plot(t, log.(errrz), title = \"rossler system with 2 c\", lw=1, label =\"Z^$m\", color = :green)\n",
    "xlabel!(\"t\");\n",
    "#xlims((0,1))\n",
    "ylabel!(\"|z1^$m/z2 -1|\")\n",
    "\n"
   ]
  },
  {
   "cell_type": "code",
   "execution_count": null,
   "id": "7c070abf-e0e4-4551-a332-b1d1a6c5d4ac",
   "metadata": {},
   "outputs": [],
   "source": [
    "Plots.plot(x1.^s, x2,lw=1, label=\"\",title = \"X1^$s vs X2 \")\n",
    "\n",
    "\n"
   ]
  },
  {
   "cell_type": "code",
   "execution_count": null,
   "id": "00e235f9-ab13-4237-b577-b3d29c597570",
   "metadata": {},
   "outputs": [],
   "source": [
    "Plots.plot(y1.^n, y2, lw=1, label=\"\",title =\"Y1^$n vs Y2 \")\n",
    "\n",
    "\n",
    "\n"
   ]
  },
  {
   "cell_type": "code",
   "execution_count": null,
   "id": "995c20eb-c463-4807-af4f-4d188f3cc8d4",
   "metadata": {},
   "outputs": [],
   "source": [
    "Plots.plot(z1.^m, z2, lw=1,title =\"Z1^$m vs Z2 \", label=\"\", color = :teal )\n",
    "#mn = 0:0.1:100\n",
    "#Plots.plot!(mn, mn, lw=1, label=\"\")\n"
   ]
  },
  {
   "cell_type": "code",
   "execution_count": null,
   "id": "2393a378-4569-496a-8d05-88d261e7c993",
   "metadata": {
    "editable": true,
    "slideshow": {
     "slide_type": ""
    },
    "tags": []
   },
   "outputs": [],
   "source": [
    "plot(t, errrx, lw=1,title = \"Error in x-axis\", label =\"X axis sync\", color = :blue)"
   ]
  },
  {
   "cell_type": "code",
   "execution_count": null,
   "id": "42bb1fff-87dc-411c-82c0-5956b0771fc5",
   "metadata": {},
   "outputs": [],
   "source": [
    "\n",
    "Plots.plot(t,x1.^s, title = \"rossler system X\", lw=1.2, label =\"X-Drive\", color = :blue);\n",
    "Plots.plot!(t,x2, title = \"rossler system X\", lw=1.2, label =\"X-Response\", color = :green)\n"
   ]
  },
  {
   "cell_type": "code",
   "execution_count": null,
   "id": "c78c0eef-027e-4139-81d3-1e951d78c05d",
   "metadata": {},
   "outputs": [],
   "source": [
    "\n",
    "Plots.plot(t,y1.^n, title = \"rossler system Y\", lw=1, label =\"Y-drive\", color = :blue);\n",
    "Plots.plot!(t,y2, title = \"rossler system \", lw=1, label =\"Y-Response\", color = :red)\n"
   ]
  },
  {
   "cell_type": "code",
   "execution_count": null,
   "id": "94018e60-9cec-43e8-9e9c-4c6f0b2aaefb",
   "metadata": {},
   "outputs": [],
   "source": [
    "\n",
    "Plots.plot(t,z1.^m, title = \"rossler system Z\", lw=1, label =\"Z-drive\", color = :blue);\n",
    "Plots.plot!(t,z2, title = \"rossler system Z\", lw=1,label =\"Z-response\", color = :cyan)\n"
   ]
  },
  {
   "cell_type": "code",
   "execution_count": null,
   "id": "d98aebdc-3149-45f6-9e53-8dc6d0050f39",
   "metadata": {},
   "outputs": [],
   "source": []
  },
  {
   "cell_type": "code",
   "execution_count": null,
   "id": "53dbd7af-a66e-4e12-bdb7-ba972d2c0933",
   "metadata": {},
   "outputs": [],
   "source": []
  }
 ],
 "metadata": {
  "kernelspec": {
   "display_name": "Julia 1.9.2",
   "language": "julia",
   "name": "julia-1.9"
  },
  "language_info": {
   "file_extension": ".jl",
   "mimetype": "application/julia",
   "name": "julia",
   "version": "1.9.2"
  }
 },
 "nbformat": 4,
 "nbformat_minor": 5
}
