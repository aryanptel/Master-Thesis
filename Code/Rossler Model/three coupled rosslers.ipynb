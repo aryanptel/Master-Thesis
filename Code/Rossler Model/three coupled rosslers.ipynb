{
 "cells": [
  {
   "cell_type": "code",
   "execution_count": null,
   "id": "9408d29e-5766-415b-854d-57d78ac8b4c9",
   "metadata": {},
   "outputs": [],
   "source": [
    "using DifferentialEquations, Plots\n",
    "using Dates\n",
    "\n",
    "#system\n",
    "function rossler_system(du, u1, p1, t)\n",
    "    x1, y1, z1, x2, y2, z2, x3,y3,z3 = u1\n",
    "    a, b, c,m,n,s = p1\n",
    "\n",
    "\n",
    "    \n",
    "            \n",
    "\n",
    "    du[1] = -y1 - z1 #+ x2-x1\n",
    "    du[2] =  x1 + a*y1 + (y2-y1)\n",
    "    du[3] = b + z1*(x1 - c) #+ z2-z1\n",
    "    \n",
    "    du[4] = -y2 - z2   #+ x1-x2\n",
    "    du[5] = x2 + a*y2 + (y1-y2)# + y3-y2)\n",
    "    du[6] =  b + z2*(x2-c)   +z1-z2\n",
    "\n",
    "    du[7] = -y3 - z3 + x1-x3\n",
    "    du[8] =  x3 + a * y3 #+ (y2-y3)\n",
    "    du[9] = b + z3 * (x3 - c) #+ z2-z1\n",
    "\n",
    "    \n",
    "\n",
    "end\n",
    "\n",
    "# Set the parameters\n",
    "\n",
    "a = 0.2\n",
    "b = 0.2\n",
    "c = 14\n",
    "\n",
    "# Set the time span for integration\n",
    "t_start = 0.0\n",
    "t_end = 100.0\n",
    "t_step = 0.001\n",
    "t_span = (t_start, t_end)\n",
    "\n",
    "#non-linear dependence\n",
    "m = 1 #z\n",
    "n = 1\n",
    "s = 1\n",
    "p1 = (a,b,c,m,n,s)\n",
    "\n",
    "# Set the initial conditions\n",
    "initial_state = [10,2,5,  5,0,19,  0,5,12]\n",
    "\n",
    "\n",
    "\n",
    "# Solve the coupled Lorenz systems\n",
    "prob = ODEProblem(rossler_system, initial_state, t_span, p1)\n",
    "alg = Tsit5()\n",
    "solution = solve(prob,alg, saveat=t_step );\n",
    "lim =length(solution)\n",
    "\n",
    "#li = 1:200000\n",
    "li = 1:lim\n",
    "#li = 1:1000001\n",
    "\n",
    "x1 = solution[1, li];\n",
    "y1 = solution[2, li];\n",
    "z1 = solution[3, li];\n",
    "x2 = solution[4, li];\n",
    "y2 = solution[5, li];\n",
    "z2 = solution[6, li];\n",
    "x3 = solution[7, li];\n",
    "y3 = solution[8, li];\n",
    "z3 = solution[9, li];\n",
    "\n",
    "\n",
    "t = solution.t[li];\n",
    "length(y2)\n",
    "\n",
    "#error for projective syncronisation\n",
    "errrx = []\n",
    "for i in 1:length(x1)\n",
    "    errx = ((x1[i] - x2[i]))\n",
    "    push!(errrx, errx)\n",
    "end\n",
    "\n",
    "errry = []\n",
    "for i in 1:length(y1)\n",
    "    erry = ((y1[i] - y2[i]))\n",
    "    push!(errry, erry)\n",
    "end\n",
    "\n",
    "errrz = []\n",
    "for i in 1:length(z1)\n",
    "    errz = abs((z1[i]^m / z2[i])-1)\n",
    "    push!(errrz, errz)\n",
    "end\n",
    "\n"
   ]
  },
  {
   "cell_type": "code",
   "execution_count": null,
   "id": "1f60c060-a33d-4aa7-8eaa-181b7abab891",
   "metadata": {
    "editable": true,
    "slideshow": {
     "slide_type": ""
    },
    "tags": []
   },
   "outputs": [],
   "source": [
    "\n",
    "Plots.plot(x1,y1,z1, title = \"rossler system \",lw=1, label =\"System 1\",color = :blue, fmt = :jpeg )\n",
    "\n"
   ]
  },
  {
   "cell_type": "code",
   "execution_count": null,
   "id": "54a2ec81-9dd0-4a19-a1ec-c248507cadae",
   "metadata": {},
   "outputs": [],
   "source": [
    "Plots.plot!(x2,y2,z2, title = \"rossler system \",lw=1, label =\"System 2\",color = :red);\n",
    "xlabel!(\"x\");\n",
    "ylabel!(\"y\");\n",
    "zlabel!(\"z\", fmt = :jpeg)\n"
   ]
  },
  {
   "cell_type": "code",
   "execution_count": null,
   "id": "c36a86ad-589d-4a95-b67b-d7abab7f5ef7",
   "metadata": {},
   "outputs": [],
   "source": [
    "Plots.plot!(x3,y3,z3, title = \"rossler system \",lw=1, label =\"System 3\",color = :brown)\n"
   ]
  },
  {
   "cell_type": "code",
   "execution_count": null,
   "id": "984f5ca9-e3a4-4e0f-89ae-09a2a864cd54",
   "metadata": {},
   "outputs": [],
   "source": [
    "plot(t, log.(abs.(errrz)), title = \"rossler system with 2 \", lw=1, label =\"Z^$m\", color = :green)\n",
    "#xlabel!(\"t\");"
   ]
  },
  {
   "cell_type": "code",
   "execution_count": null,
   "id": "f8a1acc5-c2cf-44a2-9356-4b460630da84",
   "metadata": {},
   "outputs": [],
   "source": [
    "plot(t, log.(abs.(errrx)), lw=1, label =\"X axis sync\", color = :blue)"
   ]
  },
  {
   "cell_type": "code",
   "execution_count": null,
   "id": "87344352-c490-4a17-b753-1123576b9832",
   "metadata": {},
   "outputs": [],
   "source": [
    "plot(t, log.(abs.(errry)), lw=1, label =\"X axis sync\", color = :purple\n",
    ")"
   ]
  },
  {
   "cell_type": "code",
   "execution_count": null,
   "id": "46a19221-79ef-49c2-bd16-2dab50b415a5",
   "metadata": {},
   "outputs": [],
   "source": [
    "plot(t, log.(abs.(x3 - x1)))"
   ]
  },
  {
   "cell_type": "code",
   "execution_count": null,
   "id": "666d6c16-c2fd-4d4d-95d1-d63014f3272a",
   "metadata": {
    "editable": true,
    "slideshow": {
     "slide_type": ""
    },
    "tags": []
   },
   "outputs": [],
   "source": [
    "print(\"\\^t\")"
   ]
  },
  {
   "cell_type": "code",
   "execution_count": null,
   "id": "29a1bc3b-5e03-46f7-977b-65eee29196e0",
   "metadata": {
    "editable": true,
    "slideshow": {
     "slide_type": ""
    },
    "tags": []
   },
   "outputs": [],
   "source": []
  }
 ],
 "metadata": {
  "kernelspec": {
   "display_name": "Julia 1.9.2",
   "language": "julia",
   "name": "julia-1.9"
  },
  "language_info": {
   "file_extension": ".jl",
   "mimetype": "application/julia",
   "name": "julia",
   "version": "1.9.2"
  }
 },
 "nbformat": 4,
 "nbformat_minor": 5
}
