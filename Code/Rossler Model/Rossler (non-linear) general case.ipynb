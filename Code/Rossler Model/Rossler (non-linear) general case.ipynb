{
 "cells": [
  {
   "cell_type": "markdown",
   "id": "fc87bc3f",
   "metadata": {
    "editable": true,
    "slideshow": {
     "slide_type": ""
    },
    "tags": []
   },
   "source": [
    "# Non-linear Syncronisation (z2^4)"
   ]
  },
  {
   "cell_type": "code",
   "execution_count": null,
   "id": "3630e153-b7ff-4a50-888c-87d71d13fd3d",
   "metadata": {},
   "outputs": [],
   "source": [
    "using DifferentialEquations, Plots\n",
    "using Dates\n",
    "\n",
    "#system\n",
    "function rossler_system(du, u1, p1, t)\n",
    "    x1, y1, z1, x2, y2, z2 = u1\n",
    "    a, b, c,m = p1\n",
    "\n",
    "    \n",
    "    du[1] = -y1 - z1\n",
    "    du[2] =  x1 + a*y1\n",
    "    du[3] = b + z1*(x1 - c)\n",
    "    \n",
    "    du[4] = -y2 - z2   -(y1 - y2 + z1 - z2) -(x2 - x1)\n",
    "    du[5] = x2 + a*y2   -(-x1 + x2 - a* y1 + a* y2)-(y2 - y1)\n",
    "    du[6] =  b+z2*(x2-c)    -b + m *(z1^(-1 + m)) *(b + (-c + x1)* z1) - (-c + x2) *z2 -c*(z2 - z1^m)\n",
    "    \n",
    "end\n",
    "\n",
    "# Set the parameters\n",
    "\n",
    "a = 0.2\n",
    "b = 0.2\n",
    "c = 14\n",
    "m = 2\n",
    "\n",
    "p1 = (a,b,c,m)\n",
    "\n",
    "# Set the initial conditions\n",
    "initial_state = [15.0, 2.0, 5.0, -20.0, 10.0, 0.0]\n",
    "\n",
    "# Set the time span for integration\n",
    "t_start = 0.0\n",
    "t_end = 1000.0\n",
    "t_step = 0.001\n",
    "t_span = (t_start, t_end)\n"
   ]
  },
  {
   "cell_type": "code",
   "execution_count": null,
   "id": "8fe0aaa2-9beb-4c6b-897b-a21869e93ea3",
   "metadata": {
    "scrolled": true
   },
   "outputs": [],
   "source": [
    "# Solve the coupled Lorenz systems\n",
    "prob = ODEProblem(rossler_system, initial_state, t_span, p1)\n",
    "alg = Tsit5()\n",
    "solution = solve(prob,alg, saveat=t_step );\n",
    "#println(now())\n",
    "lim =length(solution)"
   ]
  },
  {
   "cell_type": "code",
   "execution_count": null,
   "id": "55582d5f-7a1a-49e1-8643-277a773d2d01",
   "metadata": {
    "scrolled": true
   },
   "outputs": [],
   "source": [
    "li = 0001:200000\n",
    "#li = 800001:(lim-1)\n",
    "#li = 1:1000001\n",
    "#title!(\"Synchronization of Linearly Coupled Lorenz Systems\")\n",
    "#plot!(legend=true, grid=true, camera = (40,40))\n",
    "x1 = solution[1, li];\n",
    "y1 = solution[2, li];\n",
    "z1 = solution[3, li];\n",
    "x2 = solution[4, li];\n",
    "y2 = solution[5, li];\n",
    "z2 = solution[6, li];\n",
    "t = solution.t[li];\n",
    "length(x1)"
   ]
  },
  {
   "cell_type": "code",
   "execution_count": null,
   "id": "165dd0ef",
   "metadata": {},
   "outputs": [],
   "source": [
    "#error for projective syncronisation\n",
    "errrx = []\n",
    "for i in 1:length(x1)\n",
    "    errx = ((x1[i] - x2[i]))\n",
    "    push!(errrx, errx)\n",
    "end\n",
    "\n",
    "errry = []\n",
    "for i in 1:length(y1)\n",
    "    erry = ((y1[i] - y2[i]))\n",
    "    push!(errry, erry)\n",
    "end\n",
    "\n",
    "errrz = []\n",
    "for i in 1:length(z1)\n",
    "    errz = ((z1[i]^m / z2[i])-1)\n",
    "    push!(errrz, errz)\n",
    "end\n",
    "z_sqr = []\n",
    "\n",
    "for i in 1:length(z1)\n",
    "    z_s = z1[i]^m\n",
    "    push!(z_sqr, z_s)\n",
    "end\n"
   ]
  },
  {
   "cell_type": "code",
   "execution_count": null,
   "id": "26382688",
   "metadata": {
    "scrolled": true
   },
   "outputs": [],
   "source": [
    "plot(x1,y1,z1, title = \"rossler system \",lw=1, label =\"Drive\",color = :blue);\n"
   ]
  },
  {
   "cell_type": "code",
   "execution_count": null,
   "id": "e224c05b",
   "metadata": {
    "scrolled": true
   },
   "outputs": [],
   "source": [
    "plot!(x2,y2,z2, title = \"Complete Synchronisation of Rossler System \",lw=1, label =\"Response\",color = :red)\n",
    "\n",
    "xlabel!(\"x\")\n",
    "ylabel!(\"y\")\n",
    "zlabel!(\"z\")\n",
    "\n",
    "# Define the desktop directory path\n",
    "#desktop_path = joinpath(homedir(), \"Desktop\")\n",
    "\n",
    "# Save the plot as a JPEG image on the desktop\n",
    "savefig(\"complete.png\")"
   ]
  },
  {
   "cell_type": "code",
   "execution_count": null,
   "id": "bd9fd4ff",
   "metadata": {
    "scrolled": true
   },
   "outputs": [],
   "source": [
    "plot(x1, x2,title = \"X1 vs X2 \")\n",
    "savefig(\"x1vsX2.png\")"
   ]
  },
  {
   "cell_type": "code",
   "execution_count": null,
   "id": "43688918",
   "metadata": {
    "scrolled": true
   },
   "outputs": [],
   "source": [
    "plot(y1, y2, lw=1,title =\"Y1 vs Y2 \")\n",
    "savefig(\"y1vsy2.png\")"
   ]
  },
  {
   "cell_type": "code",
   "execution_count": null,
   "id": "357c6665",
   "metadata": {},
   "outputs": [],
   "source": [
    "plot(z1, z2, lw=1, lable =\"z1vsz2\", color = :black )\n",
    "mn = 0:0.1:100\n",
    "plot!(mn, mn.^m, lw=1,title =\"y = x^$m \\nZ1 vs z2\", lable =\"y = x^$m\")\n",
    "savefig(\"z1vsz2.png\")"
   ]
  },
  {
   "cell_type": "raw",
   "id": "9a127151-8c1d-4883-8f4a-013497826032",
   "metadata": {
    "scrolled": true
   },
   "source": [
    "fig = figure()\n",
    "\n",
    "# Create a 1x3 grid of subplots\n",
    "ax1 = subplot(3, 1, 1)\n",
    "ax2 = subplot(3, 1, 2)\n",
    "ax3 = subplot(3, 1, 3)\n",
    "\n",
    "ax1.plot(t, errrx, lw=1, label =\"X axis sync\", color = :blue)\n",
    "#xlabel!(\"t\")\n",
    "#ylabel!(\"x2-x1\")\n",
    "ax2.plot(t, errry, lw=1, label =\"Y axis sync\", color = :red)\n",
    "#xlabel!(\"t\")\n",
    "#ylabel!(\"y2-y1\")\n",
    "ax3.plot(t, errrz, lw=1, label =\"Z axis sync\", color = :green)\n",
    "#xlabel!(\"t\")\n",
    "#ylabel!(\"z1^4/z2 -1\")\n",
    "subplots_adjust(hspace=0.5, wspace=0.5)\n",
    "ax1.set_title(\"X2-X1\")\n",
    "ax2.set_title(\"Y2-Y1\")\n",
    "ax3.set_title(\"|Z2^$m/Z1 - 1|\")\n",
    "show()"
   ]
  },
  {
   "cell_type": "code",
   "execution_count": null,
   "id": "f84eaed5",
   "metadata": {},
   "outputs": [],
   "source": [
    "plot(t, errrz, title = \"rossler system \", lw=1,ylimits=(-1,1), label =\"Z axis sync\", color = :green)\n",
    "xlabel!(\"t\")\n",
    "ylabel!(\"z1^$m/z2 -1\")\n",
    "savefig(\"error_z.png\")"
   ]
  },
  {
   "cell_type": "code",
   "execution_count": null,
   "id": "05471f1e-19c9-4725-8a48-eb94b7f16f16",
   "metadata": {},
   "outputs": [],
   "source": [
    "plot(t,x1, title = \"Time series of coupled oscillators \", lw=1, label =\"X-Drive\", color = :blue)\n",
    "plot!(t,x2, title = \"rossler system \", lw=1, label =\"X Response\", color = :red)\n"
   ]
  },
  {
   "cell_type": "code",
   "execution_count": null,
   "id": "08a6ec72-9fa7-417c-98d3-737efe57d3a5",
   "metadata": {
    "scrolled": true
   },
   "outputs": [],
   "source": [
    "plot(t,y1, title = \"rossler system \", lw=1, label =\"Y-drive\", color = :blue)\n",
    "plot!(t,y2, title = \"rossler system \", lw=1, label =\"Y-Response\", color = :red)\n"
   ]
  },
  {
   "cell_type": "code",
   "execution_count": null,
   "id": "f2a76835-cefa-462c-9cd3-e0b515b42370",
   "metadata": {
    "scrolled": true
   },
   "outputs": [],
   "source": [
    "plot(t,z_sqr, title = \"rossler system \", lw=1, label =\"Z-drive\", color = :blue)\n",
    "plot!(t,z2, title = \"rossler system \", lw=1,label =\"Z-response\", color = :red)\n"
   ]
  },
  {
   "cell_type": "raw",
   "id": "3a4586d6-d2e2-4f71-93f9-de4d3a71a21f",
   "metadata": {
    "scrolled": true
   },
   "source": [
    "plot(t,z_sqr, title = \"rossler system \",ylimits=(0,1), lw=1, label =\"Z-drive\", color = :blue)\n",
    "plot!(t,z2, title = \"rossler system \", lw=1,ylimits=(0,1) ,xlimits=(50,80) ,label =\"Z-response\", color = :red)\n"
   ]
  },
  {
   "cell_type": "code",
   "execution_count": null,
   "id": "1b8440f9-0d37-423e-b994-7c55eaf71fdf",
   "metadata": {},
   "outputs": [],
   "source": []
  }
 ],
 "metadata": {
  "kernelspec": {
   "display_name": "Julia 1.7.3",
   "language": "julia",
   "name": "julia-1.7"
  },
  "language_info": {
   "file_extension": ".jl",
   "mimetype": "application/julia",
   "name": "julia",
   "version": "1.7.3"
  }
 },
 "nbformat": 4,
 "nbformat_minor": 5
}
