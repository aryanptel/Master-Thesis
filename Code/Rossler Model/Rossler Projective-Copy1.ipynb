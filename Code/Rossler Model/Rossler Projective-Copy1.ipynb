{
 "cells": [
  {
   "cell_type": "markdown",
   "id": "fc87bc3f",
   "metadata": {},
   "source": [
    "# Projective Syncronisation"
   ]
  },
  {
   "cell_type": "markdown",
   "id": "8a0df5e1",
   "metadata": {},
   "source": [
    "using DifferentialEquations, Plots\n",
    "#system\n",
    "function rossler_system(du, u1, pa, t)\n",
    "    x1, y1, z1, x2, y2, z2, x3,y3,z3 = u1\n",
    "    a, b, c,p,q,r,p1,q1,r1 = pa\n",
    "\n",
    "    \n",
    "    du[1] = -y1 - z1\n",
    "    du[2] =  x1 + a*y1\n",
    "    du[3] = b + z1*(x1 - c)\n",
    "    \n",
    "    du[4] = -y2 - z2   + y2 + p *(-y1 - z1) + z2    -(x2 - p* x1)\n",
    "    du[5] = x2 + a*y2   -x2 + q *(x1 + a *y1) - a *y2 -(y2-q*y1)\n",
    "    du[6] =  b+z2*(x2-c)    -b + r *(b + (-c + x1)* z1)-(-c + x2)* z2  - (z2 - r*z1)\n",
    "\n",
    "\n",
    "\n",
    "    du[7] = -y3 - z3   + y3 + p1 *(-y2 - z2) + z3    -(x3 - p1* x2)\n",
    "    du[8] = x3 + a*y3   -x3 + q1 *(x2 + a *y2) - a *y3 -(y3-q1*y2)\n",
    "    du[9] =  b+z3*(x3-c)    -b + r1 *(b + (-c + x2)* z2)-(-c + x3)* z3  - (z3 - r1*z2)\n",
    "    \n",
    "end\n",
    "\n",
    "# Set the parameters\n",
    "\n",
    "a = 0.2\n",
    "b = 0.2\n",
    "c = 14\n",
    "p = 2\n",
    "q = 2\n",
    "r = 2\n",
    "p1 = 1\n",
    "q1 = 1\n",
    "r1 = 1\n",
    "pa = (a,b,c,p,q,r,p1,q1,r1)\n",
    "\n",
    "# Set the initial conditions\n",
    "initial_state = [15.0, 2.0, 5.0, 100.0, 2.0, 7.0, 40.0, 10.0, 15.0 ]\n",
    "\n",
    "# Set the time span for integration\n",
    "t_start = 0.0\n",
    "t_end = 10000.0\n",
    "t_step = 0.001\n",
    "t_span = (t_start, t_end);\n"
   ]
  },
  {
   "cell_type": "code",
   "execution_count": null,
   "id": "ec1263c5",
   "metadata": {},
   "outputs": [],
   "source": [
    "using DifferentialEquations, Plots\n",
    "#system\n",
    "function rossler_system(du, u1, pa, t)\n",
    "    #x1, y1, z1, x2, y2, z2, x3,y3,z3 = u1\n",
    "        x1, y1, z1, x2, y2, z2 = u1\n",
    "\n",
    "    a, b, c,p,q,r,p1,q1,r1 = pa\n",
    "\n",
    "    \n",
    "    du[1] = -y1 - z1\n",
    "    du[2] =  x1 + a*y1\n",
    "    du[3] = b + z1*(x1 - c)\n",
    "    \n",
    "    du[4] = -y2 - z2   + y2 + p *(-y1 - z1) + z2    -(x2 - p* x1)\n",
    "    du[5] = x2 + a*y2   -x2 + q *(x1 + a *y1) - a *y2 -(y2-q*y1)\n",
    "    du[6] =  b+z2*(x2-c)    -b + r *(b + (-c + x1)* z1)-(-c + x2)* z2  - (z2 - r*z1)\n",
    "\n",
    "\n",
    "\n",
    "    #du[7] = -y3 - z3   -(y3-y2)\n",
    "    #du[8] = x3 + a*y3  -(y3-y2)\n",
    "    #du[9] =  b+z3*(x3-c)    \n",
    "end\n",
    "\n",
    "# Set the parameters\n",
    "\n",
    "a = 0.2\n",
    "b = 0.2\n",
    "c = 14\n",
    "p = -1\n",
    "q = -1\n",
    "r = -1\n",
    "p1 = 1\n",
    "q1 = 1\n",
    "r1 = 1\n",
    "pa = (a,b,c,p,q,r,p1,q1,r1)\n",
    "\n",
    "# Set the initial conditions\n",
    "initial_state = [15.0, 2.0, 5.0, 100.0, 2.0, 7.0]#, 40.0, 10.0, 15.0 ]\n",
    "\n",
    "# Set the time span for integration\n",
    "t_start = 0.0\n",
    "t_end = 100.0\n",
    "t_step = 0.001\n",
    "t_span = (t_start, t_end);\n"
   ]
  },
  {
   "cell_type": "code",
   "execution_count": null,
   "id": "8fe0aaa2-9beb-4c6b-897b-a21869e93ea3",
   "metadata": {
    "scrolled": true
   },
   "outputs": [],
   "source": [
    "# Solve the coupled Lorenz systems\n",
    "prob = ODEProblem(rossler_system, initial_state, t_span, pa)\n",
    "alg = Tsit5()\n",
    "solution = solve(prob,alg, saveat=t_step );\n",
    "println(length(solution))"
   ]
  },
  {
   "cell_type": "code",
   "execution_count": null,
   "id": "cff758fe",
   "metadata": {},
   "outputs": [],
   "source": [
    "li = 10000:length(solution);\n",
    "#li = 1:1000000\n",
    "#title!(\"Synchronization of Linearly Coupled Lorenz Systems\")\n",
    "#plot!(legend=true, grid=true, camera = (40,40))\n",
    "x1 = solution[1, li];\n",
    "y1 = solution[2, li];\n",
    "z1 = solution[3, li];\n",
    "x2 = solution[4, li];\n",
    "y2 = solution[5, li];\n",
    "z2 = solution[6, li];\n",
    "#x3 = solution[7, li];\n",
    "#y3 = solution[8, li];\n",
    "#z3 = solution[9, li];\n",
    "t = solution.t[li];\n",
    "\n",
    "\n",
    "\n"
   ]
  },
  {
   "cell_type": "code",
   "execution_count": null,
   "id": "e224c05b",
   "metadata": {},
   "outputs": [],
   "source": [
    "plot(x1,y1,z1, title = \"rossler system \",lw=1, label =\"Drive\",color = :blue)\n",
    "\n",
    "xlabel!(\"x\")\n",
    "\n",
    "ylabel!(\"y\")\n",
    "zlabel!(\"z\")"
   ]
  },
  {
   "cell_type": "code",
   "execution_count": null,
   "id": "f0b85b95",
   "metadata": {},
   "outputs": [],
   "source": [
    "plot!(x2,y2,z2, title = \"rossler system \",lw=1, label =\"Response\",color = :red)"
   ]
  },
  {
   "cell_type": "code",
   "execution_count": null,
   "id": "6df6c7e9",
   "metadata": {},
   "outputs": [],
   "source": [
    "plot(x3,y3,z3, title = \"rossler system \",lw=1, label =\"Response\",color = :green)"
   ]
  },
  {
   "cell_type": "code",
   "execution_count": null,
   "id": "711e3442-cc14-4ec6-bef0-7f48151cf40a",
   "metadata": {},
   "outputs": [],
   "source": [
    "plot(t,x1)\n",
    "plot!(t,x2, title = \"Anti Phase\", lw = 1, label = \"Response\")\n"
   ]
  },
  {
   "cell_type": "code",
   "execution_count": null,
   "id": "c24aaedb-8248-4d5c-99b8-00b7dec8a689",
   "metadata": {},
   "outputs": [],
   "source": [
    "plot(t,y1)\n",
    "plot!(t,y2, title = \"Anti Phase\", lw = 1, label = \"Response\")\n"
   ]
  },
  {
   "cell_type": "code",
   "execution_count": null,
   "id": "dce0fde0-b68c-4549-a4f6-ee7b3ee06f91",
   "metadata": {},
   "outputs": [],
   "source": [
    "plot(t,z1)\n",
    "plot!(t,z2, title = \"Anti Phase\", lw = 1, label = \"Response\")\n"
   ]
  },
  {
   "cell_type": "code",
   "execution_count": null,
   "id": "165dd0ef",
   "metadata": {},
   "outputs": [],
   "source": [
    "#error for projective syncronisation\n",
    "errrx = []\n",
    "for i in 1:length(x1)\n",
    "    errx = ((p * x1[i] - x2[i]))\n",
    "    push!(errrx, errx)\n",
    "end\n",
    "\n",
    "errry = []\n",
    "for i in 1:length(y1)\n",
    "    erry = ((q*y1[i] - y2[i]))\n",
    "    push!(errry, erry)\n",
    "end\n",
    "\n",
    "errrz = []\n",
    "for i in 1:length(z1)\n",
    "    errz = ((r*z1[i] - z2[i]))\n",
    "    push!(errrz, errz)\n",
    "end\n"
   ]
  },
  {
   "cell_type": "code",
   "execution_count": null,
   "id": "b5e27dbc",
   "metadata": {},
   "outputs": [],
   "source": [
    "#error for projective syncronisation\n",
    "errrx1 = []\n",
    "for i in 1:length(x2)\n",
    "    errx1 = (p1 * x2[i] - x3[i])\n",
    "    push!(errrx1, errx1)\n",
    "end\n",
    "errry1 = []\n",
    "for i in 1:length(y2)\n",
    "    erry1 = ((q1*y2[i] - y3[i]))\n",
    "    push!(errry1, erry1)\n",
    "end\n",
    "\n",
    "errrz1 = []\n",
    "for i in 1:length(z1)\n",
    "    errz1 = ((r1*z2[i] - z3[i]))\n",
    "    push!(errrz1, errz1)\n",
    "end\n",
    "\n",
    "\n"
   ]
  },
  {
   "cell_type": "markdown",
   "id": "8e9a6b90",
   "metadata": {},
   "source": [
    "# Error"
   ]
  },
  {
   "cell_type": "code",
   "execution_count": null,
   "id": "72fe33b6",
   "metadata": {},
   "outputs": [],
   "source": [
    "plot(t, errrx, title = \"rossler system \", lw=1, label =\"X axis sync\", color = :blue)\n",
    "xlabel!(\"t\")\n",
    "ylabel!(\"x2-p*x1\")"
   ]
  },
  {
   "cell_type": "code",
   "execution_count": null,
   "id": "a5eccc9a",
   "metadata": {
    "collapsed": true,
    "jupyter": {
     "outputs_hidden": true
    }
   },
   "outputs": [],
   "source": [
    "plot(t, errrx1, title = \"rossler system \", lw=1, label =\"X axis sync\", color = :blue)\n",
    "xlabel!(\"t\")\n",
    "ylabel!(\"x2-p*x1\")"
   ]
  },
  {
   "cell_type": "code",
   "execution_count": null,
   "id": "2f39eb0e",
   "metadata": {},
   "outputs": [],
   "source": [
    "plot(t, errry, title = \"rossler system \", lw=1, label =\"Y axis sync\", color = :red)\n",
    "xlabel!(\"t\")\n",
    "ylabel!(\"y2-q*y1\")"
   ]
  },
  {
   "cell_type": "code",
   "execution_count": null,
   "id": "ca69368f",
   "metadata": {},
   "outputs": [],
   "source": [
    "plot(t,(errry1), title = \"rossler system \", lw=1, label =\"Y axis sync\", color = :red)\n",
    "xlabel!(\"t\")\n",
    "ylabel!(\"y2-q*y1\")"
   ]
  },
  {
   "cell_type": "code",
   "execution_count": null,
   "id": "f84eaed5",
   "metadata": {},
   "outputs": [],
   "source": [
    "plot(t, (errrz), title = \"rossler system \", lw=1, label =\"Z axis sync\", color = :green)\n",
    "xlabel!(\"t\")\n",
    "ylabel!(\"z2-q*z1\")"
   ]
  },
  {
   "cell_type": "code",
   "execution_count": null,
   "id": "94a7b750",
   "metadata": {},
   "outputs": [],
   "source": [
    "plot(t, errrz1, title = \"rossler system \", lw=1, label =\"Z axis sync\", color = :green)\n",
    "xlabel!(\"t\")\n",
    "ylabel!(\"z2-q*z1\")"
   ]
  },
  {
   "cell_type": "code",
   "execution_count": null,
   "id": "57530153",
   "metadata": {},
   "outputs": [],
   "source": [
    "plot(p*x1, x3, title = \"X1 vs X2 \", lw=1)\n"
   ]
  },
  {
   "cell_type": "code",
   "execution_count": null,
   "id": "21c6e6d8",
   "metadata": {},
   "outputs": [],
   "source": [
    "plot(q*y1, y3, title = \"Y1 vs Y2 \", lw=1)\n"
   ]
  },
  {
   "cell_type": "code",
   "execution_count": null,
   "id": "5e015691",
   "metadata": {},
   "outputs": [],
   "source": [
    "plot(r*z1, z3, title = \"Z1 vs Z2 \", lw=1)\n"
   ]
  },
  {
   "cell_type": "code",
   "execution_count": null,
   "id": "05471f1e-19c9-4725-8a48-eb94b7f16f16",
   "metadata": {},
   "outputs": [],
   "source": [
    "plot(t,p*x1, title = \"rossler system \", lw=1, label =\"X-Drive\", color = :blue)\n",
    "plot!(t,x2, title = \"rossler system \", lw=1, label =\"X Response\", color = :red)\n"
   ]
  },
  {
   "cell_type": "code",
   "execution_count": null,
   "id": "08a6ec72-9fa7-417c-98d3-737efe57d3a5",
   "metadata": {},
   "outputs": [],
   "source": [
    "plot(t,q*y1, title = \"rossler system \", lw=1, label =\"Y-drive\", color = :blue)\n",
    "plot!(t,y2, title = \"rossler system \", lw=1, label =\"Y-Response\", color = :red)\n"
   ]
  },
  {
   "cell_type": "code",
   "execution_count": null,
   "id": "f2a76835-cefa-462c-9cd3-e0b515b42370",
   "metadata": {},
   "outputs": [],
   "source": [
    "plot(t,r*z1, title = \"rossler system \", lw=1, label =\"Z-drive\", color = :blue)\n",
    "plot!(t,z2, title = \"rossler system \", lw=1, label =\"Z-response\", color = :red)\n"
   ]
  },
  {
   "cell_type": "code",
   "execution_count": null,
   "id": "75cc4833-7d70-4352-81c1-598bc7ecedda",
   "metadata": {},
   "outputs": [],
   "source": []
  }
 ],
 "metadata": {
  "kernelspec": {
   "display_name": "Julia 1.7.3",
   "language": "julia",
   "name": "julia-1.7"
  },
  "language_info": {
   "file_extension": ".jl",
   "mimetype": "application/julia",
   "name": "julia",
   "version": "1.7.3"
  }
 },
 "nbformat": 4,
 "nbformat_minor": 5
}
