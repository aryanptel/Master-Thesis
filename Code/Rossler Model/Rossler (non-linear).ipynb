{
 "cells": [
  {
   "cell_type": "markdown",
   "id": "fc87bc3f",
   "metadata": {},
   "source": [
    "# Non-linear Syncronisation"
   ]
  },
  {
   "cell_type": "code",
   "execution_count": null,
   "id": "3630e153-b7ff-4a50-888c-87d71d13fd3d",
   "metadata": {},
   "outputs": [],
   "source": [
    "using DifferentialEquations, Plots\n",
    "#system\n",
    "function rossler_system(du, u1, p1, t)\n",
    "    x1, y1, z1, x2, y2, z2 = u1\n",
    "    a, b, c = p1\n",
    "\n",
    "    \n",
    "    du[1] = -y1 - z1\n",
    "    du[2] =  x1 + a*y1\n",
    "    du[3] = b + z1*(x1 - c)\n",
    "    \n",
    "    du[4] = -y2 - z2   -(y1 - y2 + z1 - z2) -(x2 - x1)\n",
    "    du[5] = x2 + a*y2   -(-x1 + x2 - a* y1 + a* y2)-(y2 - y1)\n",
    "    du[6] =  b+z2*(x2-c)    -b + 2 *z1* (b + (-c + x1) *z1) - (-c + x2)* z2-(z2 - z1^2)\n",
    "    \n",
    "end\n",
    "\n",
    "# Set the parameters\n",
    "\n",
    "a = 0.2\n",
    "b = 0.2\n",
    "c = 14\n",
    "\n",
    "\n",
    "p1 = (a,b,c)\n",
    "\n",
    "# Set the initial conditions\n",
    "initial_state = [15.0, 2.0, 5.0, 200.0, 100.0, 190.0]\n",
    "\n",
    "# Set the time span for integration\n",
    "t_start = 0.0\n",
    "t_end = 10000.0\n",
    "t_step = 0.001\n",
    "t_span = (t_start, t_end)\n"
   ]
  },
  {
   "cell_type": "code",
   "execution_count": null,
   "id": "8fe0aaa2-9beb-4c6b-897b-a21869e93ea3",
   "metadata": {
    "scrolled": true
   },
   "outputs": [],
   "source": [
    "# Solve the coupled Lorenz systems\n",
    "prob = ODEProblem(rossler_system, initial_state, t_span, p1)\n",
    "alg = Tsit5()\n",
    "solution = solve(prob,alg, saveat=t_step );\n"
   ]
  },
  {
   "cell_type": "code",
   "execution_count": null,
   "id": "55582d5f-7a1a-49e1-8643-277a773d2d01",
   "metadata": {
    "scrolled": true
   },
   "outputs": [],
   "source": [
    "li = 30000:100000\n",
    "#li = 200000:300000\n",
    "#li = 1:100000;\n",
    "#title!(\"Synchronization of Linearly Coupled Lorenz Systems\")\n",
    "#plot!(legend=true, grid=true, camera = (40,40))\n",
    "x1 = solution[1, li];\n",
    "y1 = solution[2, li];\n",
    "z1 = solution[3, li];\n",
    "x2 = solution[4, li];\n",
    "y2 = solution[5, li];\n",
    "z2 = solution[6, li];\n",
    "t = solution.t[li];\n"
   ]
  },
  {
   "cell_type": "code",
   "execution_count": null,
   "id": "165dd0ef",
   "metadata": {},
   "outputs": [],
   "source": [
    "#error for projective syncronisation\n",
    "errrx = []\n",
    "for i in 1:length(x1)\n",
    "    errx = ((x1[i] - x2[i]))\n",
    "    push!(errrx, errx)\n",
    "end\n",
    "\n",
    "errry = []\n",
    "for i in 1:length(y1)\n",
    "    erry = ((y1[i] - y2[i]))\n",
    "    push!(errry, erry)\n",
    "end\n",
    "\n",
    "errrz = []\n",
    "for i in 1:length(z1)\n",
    "    errz = abs((z1[i]^2 / z2[i])-1)\n",
    "    push!(errrz, errz)\n",
    "end\n",
    "z_sqr = []\n",
    "\n",
    "for i in 1:length(z1)\n",
    "    z_s = z1[i]^2\n",
    "    push!(z_sqr, z_s)\n",
    "end\n"
   ]
  },
  {
   "cell_type": "code",
   "execution_count": null,
   "id": "26382688",
   "metadata": {},
   "outputs": [],
   "source": [
    "plot(x1,y1,z1, title = \"rossler system \",lw=1, label =\"Drive\",color = :blue)\n"
   ]
  },
  {
   "cell_type": "code",
   "execution_count": null,
   "id": "e224c05b",
   "metadata": {
    "scrolled": true
   },
   "outputs": [],
   "source": [
    "plot!(x2,y2,z2, title = \"rossler system \",lw=1, label =\"Response\",color = :red)\n",
    "\n",
    "xlabel!(\"x\")\n",
    "ylabel!(\"y\")\n",
    "zlabel!(\"z\")"
   ]
  },
  {
   "cell_type": "code",
   "execution_count": null,
   "id": "bd9fd4ff",
   "metadata": {},
   "outputs": [],
   "source": [
    "plot(x1, x2, title = \"Y1 vs Y2 \", lw=1)"
   ]
  },
  {
   "cell_type": "code",
   "execution_count": null,
   "id": "43688918",
   "metadata": {},
   "outputs": [],
   "source": [
    "plot(y1, y2, title = \"Y1 vs Y2 \", lw=1)"
   ]
  },
  {
   "cell_type": "code",
   "execution_count": null,
   "id": "357c6665",
   "metadata": {},
   "outputs": [],
   "source": [
    "plot(z1, z2, title = \"Y1 vs Y2 \", lw=1)"
   ]
  },
  {
   "cell_type": "code",
   "execution_count": null,
   "id": "72fe33b6",
   "metadata": {},
   "outputs": [],
   "source": [
    "plot(t, errrx, title = \"rossler system \", lw=1, label =\"X axis sync\", color = :blue)\n",
    "xlabel!(\"t\")\n",
    "ylabel!(\"x2-x1\")"
   ]
  },
  {
   "cell_type": "code",
   "execution_count": null,
   "id": "2f39eb0e",
   "metadata": {},
   "outputs": [],
   "source": [
    "plot(t, errry, title = \"rossler system \", lw=1, label =\"Y axis sync\", color = :red)\n",
    "xlabel!(\"t\")\n",
    "\n",
    "ylabel!(\"y2-y1\")"
   ]
  },
  {
   "cell_type": "code",
   "execution_count": null,
   "id": "f84eaed5",
   "metadata": {},
   "outputs": [],
   "source": [
    "plot(t, errrz, title = \"rossler system \", lw=1, label =\"Z axis sync\", color = :green)\n",
    "xlabel!(\"t\")\n",
    "ylabel!(\"z1^2/z2 -1\")\n"
   ]
  },
  {
   "cell_type": "code",
   "execution_count": null,
   "id": "05471f1e-19c9-4725-8a48-eb94b7f16f16",
   "metadata": {},
   "outputs": [],
   "source": [
    "plot(t,x1, title = \"rossler system \", lw=1, label =\"X-Drive\", color = :blue)\n",
    "plot!(t,x2, title = \"rossler system \", lw=1, label =\"X Response\", color = :red)\n"
   ]
  },
  {
   "cell_type": "code",
   "execution_count": null,
   "id": "08a6ec72-9fa7-417c-98d3-737efe57d3a5",
   "metadata": {},
   "outputs": [],
   "source": [
    "plot(t,y1, title = \"rossler system \", lw=1, label =\"Y-drive\", color = :blue)\n",
    "plot!(t,y2, title = \"rossler system \", lw=1, label =\"Y-Response\", color = :red)\n"
   ]
  },
  {
   "cell_type": "code",
   "execution_count": null,
   "id": "f2a76835-cefa-462c-9cd3-e0b515b42370",
   "metadata": {},
   "outputs": [],
   "source": [
    "plot(t,z_sqr, title = \"rossler system \", lw=1, label =\"Z-drive\", color = :blue)\n",
    "plot!(t,z2, title = \"rossler system \", lw=1, label =\"Z-response\", color = :red)\n"
   ]
  },
  {
   "cell_type": "code",
   "execution_count": null,
   "id": "a8484cd3",
   "metadata": {},
   "outputs": [],
   "source": []
  }
 ],
 "metadata": {
  "kernelspec": {
   "display_name": "Julia 1.7.3",
   "language": "julia",
   "name": "julia-1.7"
  },
  "language_info": {
   "file_extension": ".jl",
   "mimetype": "application/julia",
   "name": "julia",
   "version": "1.7.3"
  }
 },
 "nbformat": 4,
 "nbformat_minor": 5
}
